{
  "nbformat": 4,
  "nbformat_minor": 0,
  "metadata": {
    "colab": {
      "name": "Regresion Lineal Bigml.ipynb",
      "provenance": [],
      "authorship_tag": "ABX9TyMc2/ap8Jp2mKnQtT6048MI",
      "include_colab_link": true
    },
    "kernelspec": {
      "name": "python3",
      "display_name": "Python 3"
    },
    "language_info": {
      "name": "python"
    }
  },
  "cells": [
    {
      "cell_type": "markdown",
      "metadata": {
        "id": "view-in-github",
        "colab_type": "text"
      },
      "source": [
        "<a href=\"https://colab.research.google.com/github/mleyvaz/Inteligencia_Artificial2/blob/main/Regresion_Lineal_Bigml.ipynb\" target=\"_parent\"><img src=\"https://colab.research.google.com/assets/colab-badge.svg\" alt=\"Open In Colab\"/></a>"
      ]
    },
    {
      "cell_type": "code",
      "metadata": {
        "colab": {
          "base_uri": "https://localhost:8080/"
        },
        "id": "ovxNRnY0aeOo",
        "outputId": "2ed50aee-29b2-4f87-f2b0-49a51579174e"
      },
      "source": [
        "pip install bigml"
      ],
      "execution_count": 1,
      "outputs": [
        {
          "output_type": "stream",
          "text": [
            "Collecting bigml\n",
            "\u001b[?25l  Downloading https://files.pythonhosted.org/packages/ed/f2/e44760b441cca825893e8efe8513c79e240e0906b23b4d72b5e14a8d84a9/bigml-6.1.0.tar.gz (580kB)\n",
            "\u001b[K     |████████████████████████████████| 583kB 3.1MB/s \n",
            "\u001b[?25hCollecting unidecode\n",
            "\u001b[?25l  Downloading https://files.pythonhosted.org/packages/9e/25/723487ca2a52ebcee88a34d7d1f5a4b80b793f179ee0f62d5371938dfa01/Unidecode-1.2.0-py2.py3-none-any.whl (241kB)\n",
            "\u001b[K     |████████████████████████████████| 245kB 16.1MB/s \n",
            "\u001b[?25hCollecting bigml-chronos>=0.4.3\n",
            "  Downloading https://files.pythonhosted.org/packages/f5/53/545a7b442bbf631ee06f26c12830ae1a838eab22c67759bd29e70d38b6d0/bigml-chronos-0.4.3.tar.gz\n",
            "Requirement already satisfied: requests in /usr/local/lib/python3.7/dist-packages (from bigml) (2.23.0)\n",
            "Collecting requests-toolbelt\n",
            "\u001b[?25l  Downloading https://files.pythonhosted.org/packages/60/ef/7681134338fc097acef8d9b2f8abe0458e4d87559c689a8c306d0957ece5/requests_toolbelt-0.9.1-py2.py3-none-any.whl (54kB)\n",
            "\u001b[K     |████████████████████████████████| 61kB 5.5MB/s \n",
            "\u001b[?25hRequirement already satisfied: numpy in /usr/local/lib/python3.7/dist-packages (from bigml) (1.19.5)\n",
            "Requirement already satisfied: scipy in /usr/local/lib/python3.7/dist-packages (from bigml) (1.4.1)\n",
            "Requirement already satisfied: msgpack in /usr/local/lib/python3.7/dist-packages (from bigml) (1.0.2)\n",
            "Collecting isoweek\n",
            "  Downloading https://files.pythonhosted.org/packages/c2/d4/fe7e2637975c476734fcbf53776e650a29680194eb0dd21dbdc020ca92de/isoweek-1.3.3-py2.py3-none-any.whl\n",
            "Requirement already satisfied: pytz in /usr/local/lib/python3.7/dist-packages (from bigml-chronos>=0.4.3->bigml) (2018.9)\n",
            "Requirement already satisfied: urllib3!=1.25.0,!=1.25.1,<1.26,>=1.21.1 in /usr/local/lib/python3.7/dist-packages (from requests->bigml) (1.24.3)\n",
            "Requirement already satisfied: idna<3,>=2.5 in /usr/local/lib/python3.7/dist-packages (from requests->bigml) (2.10)\n",
            "Requirement already satisfied: chardet<4,>=3.0.2 in /usr/local/lib/python3.7/dist-packages (from requests->bigml) (3.0.4)\n",
            "Requirement already satisfied: certifi>=2017.4.17 in /usr/local/lib/python3.7/dist-packages (from requests->bigml) (2020.12.5)\n",
            "Building wheels for collected packages: bigml, bigml-chronos\n",
            "  Building wheel for bigml (setup.py) ... \u001b[?25l\u001b[?25hdone\n",
            "  Created wheel for bigml: filename=bigml-6.1.0-cp37-none-any.whl size=446426 sha256=6206843f63d8ad61cccafdd93225f88b2858eabe87074b85cd55b5e6d0193825\n",
            "  Stored in directory: /root/.cache/pip/wheels/4a/82/a5/6e3b7005ce4ee34df89d175adb54ec52484e8e0ed26a12db21\n",
            "  Building wheel for bigml-chronos (setup.py) ... \u001b[?25l\u001b[?25hdone\n",
            "  Created wheel for bigml-chronos: filename=bigml_chronos-0.4.3-cp37-none-any.whl size=14665 sha256=52eb476c88ea147d38c4f48d89aa97b25f7c7944c71aad35745bc263a14dd8c9\n",
            "  Stored in directory: /root/.cache/pip/wheels/8e/fe/0d/12f195cefc5affdc9fefac37b6bba6af9d08254988664ffb94\n",
            "Successfully built bigml bigml-chronos\n",
            "Installing collected packages: unidecode, isoweek, bigml-chronos, requests-toolbelt, bigml\n",
            "Successfully installed bigml-6.1.0 bigml-chronos-0.4.3 isoweek-1.3.3 requests-toolbelt-0.9.1 unidecode-1.2.0\n"
          ],
          "name": "stdout"
        }
      ]
    },
    {
      "cell_type": "code",
      "metadata": {
        "colab": {
          "base_uri": "https://localhost:8080/"
        },
        "id": "PhVUyvdMabaG",
        "outputId": "cd4ab129-73aa-4fdb-9e79-e17d4fa3991b"
      },
      "source": [
        "#@title Salario de acuerdo a la experencia { run: \"auto\", vertical-output: true }\n",
        "experiencia = 71 #@param {type:\"slider\", min:0, max:100, step:1}\n",
        "# Requires BigML Python bindings\n",
        "#\n",
        "# Install via: pip install bigml\n",
        "#\n",
        "# or clone it:\n",
        "#   git clone https://github.com/bigmlcom/python.git\n",
        "from bigml.linear import LinearRegression\n",
        "from bigml.api import BigML\n",
        "# Downloads and generates a local version of the linear regression,\n",
        "# if it hasn't been downloaded previously.\n",
        "linearregression = LinearRegression('linearregression/608a0d28f7af1513af00740c',\n",
        "                  api=BigML(\"mleyvaz\",\n",
        "                            \"6117dd866c63eb032c9bacb75df0c1fb6a348422\",\n",
        "                            domain=\"bigml.io\"))\n",
        "# To make predictions fill the desired input_data\n",
        "# in next line. All fields are compulsory if they don't have\n",
        "# missing values.\n",
        "input_data = {\n",
        "    \"Experiencia\": experiencia\n",
        "}\n",
        "linearregression.predict(input_data)"
      ],
      "execution_count": 8,
      "outputs": [
        {
          "output_type": "execute_result",
          "data": {
            "text/plain": [
              "9335984.5"
            ]
          },
          "metadata": {
            "tags": []
          },
          "execution_count": 8
        }
      ]
    }
  ]
}